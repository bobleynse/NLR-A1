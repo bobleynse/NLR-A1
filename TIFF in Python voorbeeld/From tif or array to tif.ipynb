{
 "cells": [
  {
   "cell_type": "code",
   "execution_count": 1,
   "metadata": {},
   "outputs": [],
   "source": [
    "from osgeo import gdal\n",
    "import numpy as np\n",
    "from tifffile import imread, imsave"
   ]
  },
  {
   "cell_type": "markdown",
   "metadata": {},
   "source": [
    "# from tif to tif"
   ]
  },
  {
   "cell_type": "code",
   "execution_count": 2,
   "metadata": {
    "scrolled": false
   },
   "outputs": [
    {
     "name": "stdout",
     "output_type": "stream",
     "text": [
      "(25001, 25001, 4)\n",
      "(25001, 25001, 3)\n"
     ]
    }
   ],
   "source": [
    "tif = imread('images amersfoort/triplesat_20180418_amersfoort.tif')\n",
    "print(tif.shape)\n",
    "\n",
    "# remove NIR\n",
    "rgb_tif = tif[:, :, :-1]\n",
    "print(rgb_tif.shape)\n",
    "\n",
    "imsave('rgb1.tif', rgb_tif)"
   ]
  },
  {
   "cell_type": "markdown",
   "metadata": {},
   "source": [
    "# from array to tif"
   ]
  },
  {
   "cell_type": "code",
   "execution_count": 3,
   "metadata": {},
   "outputs": [
    {
     "name": "stdout",
     "output_type": "stream",
     "text": [
      "(4, 25001, 25001)\n",
      "(3, 25001, 25001)\n"
     ]
    }
   ],
   "source": [
    "tif = gdal.Open('images amersfoort/triplesat_20180418_amersfoort.tif')\n",
    "\n",
    "tif_as_array = tif.ReadAsArray()\n",
    "print(tif_as_array.shape)\n",
    "\n",
    "# remove NIR\n",
    "rgb_tif = tif_as_array[:-1, :, :]\n",
    "print(rgb_tif.shape)\n",
    "\n",
    "# set shape to (rows,columns,bands)\n",
    "rgb_tif = rgb_tif.reshape((rgb_tif.shape[1], rgb_tif.shape[2],3))\n",
    "\n",
    "imsave('rgb2.tif', rgb_tif)"
   ]
  },
  {
   "cell_type": "code",
   "execution_count": null,
   "metadata": {},
   "outputs": [],
   "source": []
  }
 ],
 "metadata": {
  "kernelspec": {
   "display_name": "Python 3",
   "language": "python",
   "name": "python3"
  },
  "language_info": {
   "codemirror_mode": {
    "name": "ipython",
    "version": 3
   },
   "file_extension": ".py",
   "mimetype": "text/x-python",
   "name": "python",
   "nbconvert_exporter": "python",
   "pygments_lexer": "ipython3",
   "version": "3.6.7"
  }
 },
 "nbformat": 4,
 "nbformat_minor": 2
}
