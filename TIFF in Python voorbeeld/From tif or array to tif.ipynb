{
 "cells": [
  {
   "cell_type": "code",
   "execution_count": 11,
   "metadata": {},
   "outputs": [],
   "source": [
    "from osgeo import gdal\n",
    "import numpy as np\n",
    "from tifffile import imread, imsave"
   ]
  },
  {
   "cell_type": "markdown",
   "metadata": {},
   "source": [
    "# from tif to tif"
   ]
  },
  {
   "cell_type": "code",
   "execution_count": 2,
   "metadata": {
    "scrolled": false
   },
   "outputs": [
    {
     "name": "stdout",
     "output_type": "stream",
     "text": [
      "(25001, 25001, 4)\n"
     ]
    }
   ],
   "source": [
    "i = imread('images amersfoort/triplesat_20180418_amersfoort.tif')\n",
    "print(i.shape)\n",
    "j = i[:, :, :-1]\n",
    "print(j.shape)\n",
    "imsave('rgb1.tif', k)"
   ]
  },
  {
   "cell_type": "markdown",
   "metadata": {},
   "source": [
    "# from array to tif"
   ]
  },
  {
   "cell_type": "code",
   "execution_count": 10,
   "metadata": {},
   "outputs": [
    {
     "name": "stdout",
     "output_type": "stream",
     "text": [
      "(4, 25001, 25001)\n",
      "(3, 25001, 25001)\n"
     ]
    }
   ],
   "source": [
    "src_ds = gdal.Open('images amersfoort/triplesat_20180418_amersfoort.tif')\n",
    "\n",
    "# data is the array\n",
    "data = src_ds.ReadAsArray()\n",
    "\n",
    "print(data.shape)\n",
    "tile = data[:-1, :, :]\n",
    "print(tile.shape)\n",
    "k = j.reshape((tile.shape[1], tile.shape[2],3))\n",
    "imsave('rgb2.tif', k)"
   ]
  }
 ],
 "metadata": {
  "kernelspec": {
   "display_name": "Python 3",
   "language": "python",
   "name": "python3"
  },
  "language_info": {
   "codemirror_mode": {
    "name": "ipython",
    "version": 3
   },
   "file_extension": ".py",
   "mimetype": "text/x-python",
   "name": "python",
   "nbconvert_exporter": "python",
   "pygments_lexer": "ipython3",
   "version": "3.6.7"
  }
 },
 "nbformat": 4,
 "nbformat_minor": 2
}
