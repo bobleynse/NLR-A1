{
 "cells": [
  {
   "cell_type": "code",
   "execution_count": 2,
   "metadata": {},
   "outputs": [],
   "source": [
    "from PIL import Image\n",
    "from osgeo import gdal\n",
    "from tifffile import imread, imsave\n",
    "\n",
    "def to_transparent_png(foreground,background):\n",
    "    \n",
    "    # slice missing pixels of NN output    \n",
    "    full_background = gdal.Open(background)\n",
    "    background_array = full_background.ReadAsArray()\n",
    "    cropped_background = background_array[:, 2:-2, 2:-2]\n",
    "    \n",
    "    # save cropped background as .png\n",
    "    imsave('{}_cropped.png'.format(background[:len(background)-4]), cropped_background)\n",
    "\n",
    "    # get data of the foreground image\n",
    "    img1 = Image.open(foreground)\n",
    "    img1 = img1.convert('RGBA')\n",
    "    data_img1 = img1.getdata()\n",
    "\n",
    "    # everything black in the foreground image becomes transparent    \n",
    "    newData = []\n",
    "    for item in data_img1:\n",
    "        if item[0] == 0 and item[1] == 0 and item[2] == 0:\n",
    "            newData.append((255, 255, 255, 0))\n",
    "        else:\n",
    "            newData.append(item)\n",
    "\n",
    "    # convert foreground jpg to png    \n",
    "    img1.putdata(newData)\n",
    "    img1.save('{}.png'.format(foreground[:-4]))\n",
    "\n",
    "    # open foreground and background png's  \n",
    "    background = Image.open('{}_cropped.png'.format(background[:-4]))\n",
    "    foreground = Image.open('{}.png'.format(foreground[:-4]))\n",
    "\n",
    "    # paste images on each other    \n",
    "    background.paste(foreground, (0, 0), foreground)\n",
    "    background.save('ding2.png')\n",
    "\n",
    "to_transparent_png('ding.jpg',\"ding1.jpg\")"
   ]
  }
 ],
 "metadata": {
  "kernelspec": {
   "display_name": "Python 3",
   "language": "python",
   "name": "python3"
  },
  "language_info": {
   "codemirror_mode": {
    "name": "ipython",
    "version": 3
   },
   "file_extension": ".py",
   "mimetype": "text/x-python",
   "name": "python",
   "nbconvert_exporter": "python",
   "pygments_lexer": "ipython3",
   "version": "3.6.5"
  }
 },
 "nbformat": 4,
 "nbformat_minor": 2
}
