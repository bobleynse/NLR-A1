{
 "cells": [
  {
   "cell_type": "code",
   "execution_count": 13,
   "metadata": {},
   "outputs": [],
   "source": [
    "import os\n",
    "from PIL import Image\n",
    "import numpy as np\n",
    "\n",
    "path_to_inputfiles = \"test_input/\"\n",
    "rectSize = 5\n",
    "color = 0     # grayscale"
   ]
  },
  {
   "cell_type": "code",
   "execution_count": 14,
   "metadata": {},
   "outputs": [],
   "source": [
    "# To add rows and columns:\n",
    "for filename in os.listdir(path_to_inputfiles):\n",
    "    image = np.asarray(Image.open(\"{}{}\".format(path_to_inputfiles, filename)))\n",
    "    for i in range(rectSize // 2):\n",
    "        image = np.insert(image, 0, color, axis=0)                # left side of image\n",
    "        image = np.insert(image, image.shape[0], color, axis=0)   # right side\n",
    "        image = np.insert(image, 0, color, axis=1)                # top\n",
    "        image = np.insert(image, image.shape[1], color, axis=1)   # bottom\n",
    "        newimage = Image.fromarray(image, 'RGB')\n",
    "        newimage.save(\"{}{}\".format(path_to_inputfiles, filename))"
   ]
  }
 ],
 "metadata": {
  "kernelspec": {
   "display_name": "Python 3",
   "language": "python",
   "name": "python3"
  },
  "language_info": {
   "codemirror_mode": {
    "name": "ipython",
    "version": 3
   },
   "file_extension": ".py",
   "mimetype": "text/x-python",
   "name": "python",
   "nbconvert_exporter": "python",
   "pygments_lexer": "ipython3",
   "version": "3.6.5"
  }
 },
 "nbformat": 4,
 "nbformat_minor": 2
}
