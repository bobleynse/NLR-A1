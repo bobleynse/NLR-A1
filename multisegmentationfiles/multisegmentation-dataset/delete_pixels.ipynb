{
 "cells": [
  {
   "cell_type": "code",
   "execution_count": 6,
   "metadata": {},
   "outputs": [],
   "source": [
    "import os\n",
    "from PIL import Image\n",
    "import numpy as np\n",
    "\n",
    "path_to_files = \"addpixels/\"\n",
    "amount_of_pixels_to_remove = 2\n",
    "color = 0     # grayscale"
   ]
  },
  {
   "cell_type": "code",
   "execution_count": 7,
   "metadata": {},
   "outputs": [],
   "source": [
    "# To delete rows and columns:\n",
    "for filename in os.listdir(path_to_files):\n",
    "    image = np.asarray(Image.open(\"{}{}\".format(path_to_files, filename)))\n",
    "    for i in range(amount_of_pixels_to_remove):\n",
    "        image = np.delete(image, (0), axis=0)\n",
    "        image = np.delete(image, (image.shape[0]-1), axis=0)\n",
    "        image = np.delete(image, (0), axis=1)\n",
    "        image = np.delete(image, (image.shape[1]-1), axis=1)\n",
    "        newimage = Image.fromarray(image, 'RGB')\n",
    "        newimage.save(\"{}{}\".format(path_to_files, filename))"
   ]
  }
 ],
 "metadata": {
  "kernelspec": {
   "display_name": "Python 3",
   "language": "python",
   "name": "python3"
  },
  "language_info": {
   "codemirror_mode": {
    "name": "ipython",
    "version": 3
   },
   "file_extension": ".py",
   "mimetype": "text/x-python",
   "name": "python",
   "nbconvert_exporter": "python",
   "pygments_lexer": "ipython3",
   "version": "3.6.5"
  }
 },
 "nbformat": 4,
 "nbformat_minor": 2
}
