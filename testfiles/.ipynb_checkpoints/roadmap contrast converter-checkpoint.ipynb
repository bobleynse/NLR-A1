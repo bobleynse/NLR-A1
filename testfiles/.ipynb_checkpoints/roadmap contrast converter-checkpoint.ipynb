{
 "cells": [
  {
   "cell_type": "code",
   "execution_count": 1,
   "metadata": {},
   "outputs": [],
   "source": [
    "import tensorflow as tf\n",
    "from osgeo import gdal\n",
    "import matplotlib.pyplot as plt\n",
    "from PIL import Image\n",
    "import numpy as np\n",
    "from matplotlib.colors import LinearSegmentedColormap\n",
    "import matplotlib.colors as clr\n",
    "import os \n",
    "import csv"
   ]
  },
  {
   "cell_type": "code",
   "execution_count": 27,
   "metadata": {},
   "outputs": [
    {
     "name": "stderr",
     "output_type": "stream",
     "text": [
      "c:\\users\\krull\\appdata\\local\\programs\\python\\python36\\lib\\site-packages\\ipykernel_launcher.py:4: UserWarning: loadtxt: Empty input file: \"inputfile.csv\"\n",
      "  after removing the cwd from sys.path.\n"
     ]
    }
   ],
   "source": [
    "#input path, example: \"C:/Users/krull/Desktop/School/Leren & Beslissen/NLR-A1/testfiles\"\n",
    "\n",
    "def convtoblack(inputfile):\n",
    "    wfile = np.loadtxt(inputfile,delimiter=',')\n",
    "    for i in wfile:\n",
    "        for j in range(0,300,3):\n",
    "            sum = (i[j]+ i[j+1] + i[j+2]/3)\n",
    "            if sum < 6:\n",
    "                i[j] = 255\n",
    "                i[j+1] = 255\n",
    "                i[j+2] = 255\n",
    "            else:\n",
    "                i[j] = 0\n",
    "                i[j+1] = 0\n",
    "                i[j+2] = 0\n",
    "    return wfile\n",
    "ofile = convtoblack('testcsv4real.csv')\n",
    "\n",
    "\n",
    "def convtoblacktotal(inputlist):\n",
    "    for i in range(len(inputlist)):\n",
    "        wfile = convtoblack(inputlist[i])\n",
    "        np.savetxt(\"titel{}.csv.\".format(i), wfile, delimiter=\",\",fmt='%i')\n",
    "listje = ['inputfile.csv','outputfile.csv', 'outputfile2.csv','test.csv']\n",
    "convtoblacktotal(listje)"
   ]
  },
  {
   "cell_type": "code",
   "execution_count": null,
   "metadata": {},
   "outputs": [],
   "source": [
    "def read_as_array(tif_file):\n",
    "    image_array = []\n",
    "    for i in range(3):\n",
    "        ColorBand = tif_file.GetRasterBand(i)\n",
    "        if ColorBand == None:\n",
    "            array = np.zeros((800, 800))\n",
    "        else:\n",
    "            array = ColorBand.ReadAsArray()\n",
    "        image_array.append(array)\n",
    "    return image_array\n",
    "\n",
    "def create_image(image_array, Xmin, Xmax, Ymin, Ymax):\n",
    "    image = ''\n",
    "    R = image_array[0]\n",
    "    G = image_array[1]\n",
    "    B = image_array[2]\n",
    "    for i in range(Ymin, Ymax):\n",
    "        for j in range(Xmin, Xmax):\n",
    "            image += '{}, {}, {},'.format(R[i][j], G[i][j], B[i][j])\n",
    "        image = image[:-1]+'\\n'\n",
    "    return image"
   ]
  },
  {
   "cell_type": "code",
   "execution_count": 21,
   "metadata": {},
   "outputs": [],
   "source": [
    "#split up segmented road into 400x400 properly segmented pieces\n",
    "#inputfile is .dataset \n",
    "def segmentsplit(n,inputfile):\n",
    "    image_array = read_as_array(inputfile)\n",
    "    Xmin = 0\n",
    "    Xmax = n\n",
    "    Ymin = 0\n",
    "    Ymax = n\n",
    "    tosplitlist = []\n",
    "    count = 0\n",
    "    while Ymax <= 800:\n",
    "        while Xmax <= 800:\n",
    "            splitimg = create_image(image_array, Xmin, Xmax, Ymin, Ymax)\n",
    "            tosplitlist.append(splitimg)\n",
    "            print(Xmax)\n",
    "            Xmin += n\n",
    "            Xmax += n\n",
    "        Ymin += n\n",
    "        Ymax += n\n",
    "    return tosplitlist\n",
    "\n",
    "splitlist = segmentsplit(400, ds)\n",
    "print(splitlist)        \n",
    "ret = gdal.Info(ds)\n",
    "# print(ret)\n",
    "image_array = read_as_array(ds)\n",
    "test = create_image(image_array, 0, 300, 0, 300)\n",
    "train = create_image(image_array, 100, 200, 0, 100)\n",
    "valid = create_image(image_array, 200, 300, 0, 100)"
   ]
  }
 ],
 "metadata": {
  "kernelspec": {
   "display_name": "Python 3",
   "language": "python",
   "name": "python3"
  },
  "language_info": {
   "codemirror_mode": {
    "name": "ipython",
    "version": 3
   },
   "file_extension": ".py",
   "mimetype": "text/x-python",
   "name": "python",
   "nbconvert_exporter": "python",
   "pygments_lexer": "ipython3",
   "version": "3.6.7"
  }
 },
 "nbformat": 4,
 "nbformat_minor": 2
}
