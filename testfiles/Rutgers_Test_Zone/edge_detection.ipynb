{
 "cells": [
  {
   "cell_type": "code",
   "execution_count": null,
   "metadata": {},
   "outputs": [],
   "source": [
    "import cv2\n",
    "import numpy as np\n",
    "\n",
    "img = cv2.imread('test2.png', cv2.IMREAD_COLOR)\n",
    "img = cv2.GaussianBlur(img, (5, 5), 0)\n",
    "\n",
    "sobelx = cv2.Sobel(img, cv2.CV_64F, 1, 0)\n",
    "sobely = cv2.Sobel(img, cv2.CV_64F, 0, 1)\n",
    "laplacian = cv2.Laplacian(img, cv2.CV_64F, ksize=3)\n",
    "canny = cv2.Canny(img, 200, 250)\n",
    "\n",
    "cv2.imshow('Image', img)\n",
    "cv2.imshow('Canny', canny)\n",
    "\n",
    "cv2.waitKey(0)\n",
    "cv2.destroyAllWindows()"
   ]
  },
  {
   "cell_type": "code",
   "execution_count": null,
   "metadata": {},
   "outputs": [],
   "source": []
  }
 ],
 "metadata": {
  "kernelspec": {
   "display_name": "Python 3",
   "language": "python",
   "name": "python3"
  },
  "language_info": {
   "codemirror_mode": {
    "name": "ipython",
    "version": 3
   },
   "file_extension": ".py",
   "mimetype": "text/x-python",
   "name": "python",
   "nbconvert_exporter": "python",
   "pygments_lexer": "ipython3",
   "version": "3.6.5"
  }
 },
 "nbformat": 4,
 "nbformat_minor": 2
}
