{
 "cells": [
  {
   "cell_type": "code",
   "execution_count": 176,
   "metadata": {},
   "outputs": [
    {
     "name": "stdout",
     "output_type": "stream",
     "text": [
      "Epoch 1/3\n",
      "60000/60000 [==============================] - 3s 56us/step - loss: 0.3144 - acc: 0.9094\n",
      "Epoch 2/3\n",
      "60000/60000 [==============================] - 3s 49us/step - loss: 0.1363 - acc: 0.9579\n",
      "Epoch 3/3\n",
      "60000/60000 [==============================] - 3s 49us/step - loss: 0.0968 - acc: 0.9701\n"
     ]
    },
    {
     "data": {
      "text/plain": [
       "<tensorflow.python.keras.callbacks.History at 0x1ef0bed7cf8>"
      ]
     },
     "execution_count": 176,
     "metadata": {},
     "output_type": "execute_result"
    }
   ],
   "source": [
    "import tensorflow as tf\n",
    "mnist = tf.keras.datasets.mnist # 28 x 28 images of hand-written digets 0-9\n",
    "\n",
    "# training and validation set\n",
    "(x_train,y_train),(x_val, y_val) = mnist.load_data()\n",
    "\n",
    "# normalizeer data \n",
    "x_train = tf.keras.utils.normalize(x_train,axis=1)\n",
    "x_val = tf.keras.utils.normalize(x_val,axis=1)\n",
    "\n",
    "#build model\n",
    "model = tf.keras.models.Sequential()\n",
    "model.add(tf.keras.layers.Flatten())\n",
    "\n",
    "# Choose amount of neurons in layer\n",
    "model.add(tf.keras.layers.Dense(64, activation=tf.nn.relu))\n",
    "model.add(tf.keras.layers.Dense(64, activation=tf.nn.relu))\n",
    "model.add(tf.keras.layers.Dense(10, activation=tf.nn.softmax))\n",
    "\n",
    "# choose optimizers\n",
    "model.compile(optimizer='adam',\n",
    "             loss='sparse_categorical_crossentropy',\n",
    "             metrics=['accuracy'])\n",
    "model.fit(x_train,y_train, epochs=3)"
   ]
  },
  {
   "cell_type": "code",
   "execution_count": 34,
   "metadata": {},
   "outputs": [
    {
     "name": "stdout",
     "output_type": "stream",
     "text": [
      "10000/10000 [==============================] - 0s 39us/step\n",
      "Model accuracy = 0.9663\n",
      "Model loss = 0.10689494381733239\n"
     ]
    }
   ],
   "source": [
    "# Performance on validation \n",
    "val_acc = model.evaluate(x_val,y_val)\n",
    "print('Model accuracy = {}\\nModel loss = {}'.format(val_acc[1], val_acc[0]))"
   ]
  },
  {
   "cell_type": "code",
   "execution_count": 39,
   "metadata": {},
   "outputs": [
    {
     "data": {
      "image/png": "[encoded data removed]",
      "text/plain": [
       "<Figure size 432x288 with 1 Axes>"
      ]
     },
     "metadata": {
      "needs_background": "light"
     },
     "output_type": "display_data"
    }
   ],
   "source": [
    "import matplotlib.pyplot as plt\n",
    "\n",
    "# numpy array of an image\n",
    "# print(x_train[0]) \n",
    "\n",
    "# Plot grayscale of an image\n",
    "plt.imshow(x_train[0], cmap = plt.cm.binary)\n",
    "plt.show()"
   ]
  },
  {
   "cell_type": "code",
   "execution_count": 40,
   "metadata": {
    "scrolled": true
   },
   "outputs": [
    {
     "data": {
      "image/png": "[encoded data removed]",
      "text/plain": [
       "<Figure size 432x288 with 1 Axes>"
      ]
     },
     "metadata": {
      "needs_background": "light"
     },
     "output_type": "display_data"
    }
   ],
   "source": [
    "from PIL import Image\n",
    "import numpy as np\n",
    "\n",
    "# open image\n",
    "im = Image.open('b.png','r')\n",
    "pix_val = np.array(im.getdata())\n",
    "# width,height = im.size\n",
    "    \n",
    "# construct a new array of the image \n",
    "newlist = []\n",
    "for i in range(0,len(pix_val),28):\n",
    "    row = []\n",
    "    for j in pix_val[i:i+28]:\n",
    "        row.append(abs(255 - np.average(j)))\n",
    "    newlist.append(row)\n",
    "np.array(newlist)\n",
    "\n",
    "normpix = tf.keras.utils.normalize(newlist,axis=1)\n",
    "plt.imshow(normpix,cmap = plt.cm.binary)\n",
    "plt.show()"
   ]
  },
  {
   "cell_type": "code",
   "execution_count": 199,
   "metadata": {},
   "outputs": [
    {
     "name": "stdout",
     "output_type": "stream",
     "text": [
      "7\n",
      "(1, 28, 28)\n",
      "3\n"
     ]
    }
   ],
   "source": [
    "predictions = model.predict(x_val)\n",
    "print(np.argmax(predictions[0]))\n",
    "img = (np.expand_dims(normpix,0))\n",
    "print(img.shape)\n",
    "pred_sing = model.predict(img)\n",
    "print(np.argmax(pred_sing))\n",
    "# zelf = model.evaluate([normpix],test)"
   ]
  }
 ],
 "metadata": {
  "kernelspec": {
   "display_name": "Python 3",
   "language": "python",
   "name": "python3"
  },
  "language_info": {
   "codemirror_mode": {
    "name": "ipython",
    "version": 3
   },
   "file_extension": ".py",
   "mimetype": "text/x-python",
   "name": "python",
   "nbconvert_exporter": "python",
   "pygments_lexer": "ipython3",
   "version": "3.6.7"
  }
 },
 "nbformat": 4,
 "nbformat_minor": 2
}
