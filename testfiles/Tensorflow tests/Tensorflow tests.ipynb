{
 "cells": [
  {
   "cell_type": "code",
   "execution_count": 176,
   "metadata": {},
   "outputs": [
    {
     "name": "stdout",
     "output_type": "stream",
     "text": [
      "Epoch 1/3\n",
      "60000/60000 [==============================] - 3s 56us/step - loss: 0.3144 - acc: 0.9094\n",
      "Epoch 2/3\n",
      "60000/60000 [==============================] - 3s 49us/step - loss: 0.1363 - acc: 0.9579\n",
      "Epoch 3/3\n",
      "60000/60000 [==============================] - 3s 49us/step - loss: 0.0968 - acc: 0.9701\n"
     ]
    },
    {
     "data": {
      "text/plain": [
       "<tensorflow.python.keras.callbacks.History at 0x1ef0bed7cf8>"
      ]
     },
     "execution_count": 176,
     "metadata": {},
     "output_type": "execute_result"
    }
   ],
   "source": [
    "import tensorflow as tf\n",
    "mnist = tf.keras.datasets.mnist\n",
    "(x_train,y_train),(x_val, y_val) = mnist.load_data()\n",
    "\n",
    "#normalizeer data \n",
    "x_train = tf.keras.utils.normalize(x_train,axis=1)\n",
    "x_val = tf.keras.utils.normalize(x_val,axis=1)\n",
    "\n",
    "#build model\n",
    "model = tf.keras.models.Sequential()\n",
    "model.add(tf.keras.layers.Flatten())\n",
    "model.add(tf.keras.layers.Dense(64, activation=tf.nn.relu))\n",
    "model.add(tf.keras.layers.Dense(64, activation=tf.nn.relu))\n",
    "model.add(tf.keras.layers.Dense(10, activation=tf.nn.softmax))\n",
    "\n",
    "model.compile(optimizer='adam',\n",
    "             loss='sparse_categorical_crossentropy',\n",
    "             metrics=['accuracy'])\n",
    "model.fit(x_train,y_train, epochs=3)"
   ]
  },
  {
   "cell_type": "code",
   "execution_count": 175,
   "metadata": {},
   "outputs": [
    {
     "name": "stdout",
     "output_type": "stream",
     "text": [
      "10000/10000 [==============================] - 0s 24us/step \n",
      "[7 2 1 ... 4 5 6]\n",
      "0.10475215148590505 [0.10924135311171412, 0.9676]\n"
     ]
    }
   ],
   "source": [
    "val_acc = model.evaluate(x_val,y_val)\n",
    "print(y_val)\n",
    "print(val_loss, val_acc)"
   ]
  },
  {
   "cell_type": "code",
   "execution_count": 128,
   "metadata": {},
   "outputs": [],
   "source": [
    "import matplotlib.pyplot as plt\n",
    "# print(x_train[0])\n",
    "# plt.imshow(x_train[0], cmap = plt.cm.binary)\n",
    "# plt.show()"
   ]
  },
  {
   "cell_type": "code",
   "execution_count": 198,
   "metadata": {
    "scrolled": true
   },
   "outputs": [
    {
     "data": {
      "image/png": "[encoded data removed]",
      "text/plain": [
       "<Figure size 432x288 with 1 Axes>"
      ]
     },
     "metadata": {
      "needs_background": "light"
     },
     "output_type": "display_data"
    }
   ],
   "source": [
    "from PIL import Image\n",
    "import numpy as np\n",
    "im = Image.open('b.png','r')\n",
    "pix_val = np.array(im.getdata())\n",
    "width,height = im.size\n",
    "    \n",
    "newlist = []\n",
    "for i in range(0,len(pix_val),28):\n",
    "    row = []\n",
    "    for j in pix_val[i:i+28]:\n",
    "        row.append(abs(255 - np.average(j)))\n",
    "    newlist.append(row)\n",
    "np.array(newlist)\n",
    "\n",
    "normpix = tf.keras.utils.normalize(newlist,axis=1)\n",
    "plt.imshow(normpix,cmap = plt.cm.binary)\n",
    "plt.show()"
   ]
  },
  {
   "cell_type": "code",
   "execution_count": 199,
   "metadata": {},
   "outputs": [
    {
     "name": "stdout",
     "output_type": "stream",
     "text": [
      "7\n",
      "(1, 28, 28)\n",
      "3\n"
     ]
    }
   ],
   "source": [
    "predictions = model.predict(x_val)\n",
    "print(np.argmax(predictions[0]))\n",
    "img = (np.expand_dims(normpix,0))\n",
    "print(img.shape)\n",
    "pred_sing = model.predict(img)\n",
    "print(np.argmax(pred_sing))\n",
    "# zelf = model.evaluate([normpix],test)"
   ]
  }
 ],
 "metadata": {
  "kernelspec": {
   "display_name": "Python 3",
   "language": "python",
   "name": "python3"
  },
  "language_info": {
   "codemirror_mode": {
    "name": "ipython",
    "version": 3
   },
   "file_extension": ".py",
   "mimetype": "text/x-python",
   "name": "python",
   "nbconvert_exporter": "python",
   "pygments_lexer": "ipython3",
   "version": "3.6.7"
  }
 },
 "nbformat": 4,
 "nbformat_minor": 2
}
