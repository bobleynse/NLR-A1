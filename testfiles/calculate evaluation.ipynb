{
 "cells": [
  {
   "cell_type": "code",
   "execution_count": 77,
   "metadata": {},
   "outputs": [
    {
     "data": {
      "text/plain": [
       "0.599"
      ]
     },
     "execution_count": 77,
     "metadata": {},
     "output_type": "execute_result"
    }
   ],
   "source": [
    "from osgeo import gdal\n",
    "import cv2\n",
    "import numpy as np\n",
    "\n",
    "def evaluation(model_output, roadmap):\n",
    "    model_output = cv2.imread(model_output)\n",
    "    model_output = cv2.cvtColor(model_output, cv2.COLOR_BGR2GRAY)\n",
    "\n",
    "    roadmap = gdal.Open(roadmap).ReadAsArray()[2:-2,2:-2]\n",
    "\n",
    "    image_size = model_output.shape[0] * model_output.shape[1]\n",
    "\n",
    "    delta = roadmap - model_output\n",
    "\n",
    "    return round(np.count_nonzero(delta < 50)/ image_size,3)\n",
    "\n",
    "evaluation('output images/jpgtestsmall.jpg','output images/x=0-2500_y=2500-5000.tif')"
   ]
  }
 ],
 "metadata": {
  "kernelspec": {
   "display_name": "Python 3",
   "language": "python",
   "name": "python3"
  },
  "language_info": {
   "codemirror_mode": {
    "name": "ipython",
    "version": 3
   },
   "file_extension": ".py",
   "mimetype": "text/x-python",
   "name": "python",
   "nbconvert_exporter": "python",
   "pygments_lexer": "ipython3",
   "version": "3.6.7"
  }
 },
 "nbformat": 4,
 "nbformat_minor": 2
}
