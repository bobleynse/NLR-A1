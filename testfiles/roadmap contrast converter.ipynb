{
 "cells": [
  {
   "cell_type": "code",
   "execution_count": 1,
   "metadata": {},
   "outputs": [],
   "source": [
    "import tensorflow as tf\n",
    "from osgeo import gdal\n",
    "import matplotlib.pyplot as plt\n",
    "from PIL import Image\n",
    "import numpy as np\n",
    "from matplotlib.colors import LinearSegmentedColormap\n",
    "import matplotlib.colors as clr\n",
    "import os \n",
    "import csv"
   ]
  },
  {
   "cell_type": "code",
   "execution_count": 27,
   "metadata": {},
   "outputs": [
    {
     "name": "stderr",
     "output_type": "stream",
     "text": [
      "c:\\users\\krull\\appdata\\local\\programs\\python\\python36\\lib\\site-packages\\ipykernel_launcher.py:4: UserWarning: loadtxt: Empty input file: \"inputfile.csv\"\n",
      "  after removing the cwd from sys.path.\n"
     ]
    }
   ],
   "source": [
    "#input path, example: \"C:/Users/krull/Desktop/School/Leren & Beslissen/NLR-A1/testfiles\"\n",
    "\n",
    "def convtoblack(inputfile):\n",
    "    wfile = np.loadtxt(inputfile,delimiter=',')\n",
    "    for i in wfile:\n",
    "        for j in range(0,300,3):\n",
    "            sum = (i[j]+ i[j+1] + i[j+2]/3)\n",
    "            if sum < 6:\n",
    "                i[j] = 255\n",
    "                i[j+1] = 255\n",
    "                i[j+2] = 255\n",
    "            else:\n",
    "                i[j] = 0\n",
    "                i[j+1] = 0\n",
    "                i[j+2] = 0\n",
    "    return wfile\n",
    "ofile = convtoblack('testcsv4real.csv')\n",
    "\n",
    "\n",
    "def convtoblacktotal(inputlist):\n",
    "    for i in range(len(inputlist)):\n",
    "        wfile = convtoblack(inputlist[i])\n",
    "        np.savetxt(\"titel{}.csv.\".format(i), wfile, delimiter=\",\",fmt='%i')\n",
    "listje = ['inputfile.csv','outputfile.csv', 'outputfile2.csv','test.csv']\n",
    "convtoblacktotal(listje)"
   ]
  },
  {
   "cell_type": "code",
   "execution_count": 21,
   "metadata": {},
   "outputs": [],
   "source": [
    "x = 2\n",
    "np.savetxt(\"outputfile{}.csv.\".format(x), wfile, delimiter=\",\",fmt='%i')"
   ]
  },
  {
   "cell_type": "code",
   "execution_count": 7,
   "metadata": {},
   "outputs": [
    {
     "name": "stdout",
     "output_type": "stream",
     "text": [
      "6\n",
      "15\n",
      "24\n"
     ]
    }
   ],
   "source": [
    "j = [1,2,3,4,5,6,7,8,9]\n",
    "for i in range(0,len(j),3):\n",
    "    print(j[i]+j[i+1]+j[i+2])\n"
   ]
  },
  {
   "cell_type": "code",
   "execution_count": null,
   "metadata": {},
   "outputs": [],
   "source": []
  }
 ],
 "metadata": {
  "kernelspec": {
   "display_name": "Python 3",
   "language": "python",
   "name": "python3"
  },
  "language_info": {
   "codemirror_mode": {
    "name": "ipython",
    "version": 3
   },
   "file_extension": ".py",
   "mimetype": "text/x-python",
   "name": "python",
   "nbconvert_exporter": "python",
   "pygments_lexer": "ipython3",
   "version": "3.6.7"
  }
 },
 "nbformat": 4,
 "nbformat_minor": 2
}
