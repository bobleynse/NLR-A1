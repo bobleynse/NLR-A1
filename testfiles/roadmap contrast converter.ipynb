{
 "cells": [
  {
   "cell_type": "code",
   "execution_count": 2,
   "metadata": {},
   "outputs": [],
   "source": [
    "import tensorflow as tf\n",
    "from osgeo import gdal\n",
    "import matplotlib.pyplot as plt\n",
    "from PIL import Image\n",
    "import numpy as np\n",
    "from matplotlib.colors import LinearSegmentedColormap\n",
    "import matplotlib.colors as clr\n",
    "import os \n",
    "import csv"
   ]
  },
  {
   "cell_type": "code",
   "execution_count": 54,
   "metadata": {},
   "outputs": [],
   "source": [
    "#input path, example: \"C:/Users/krull/Desktop/School/Leren & Beslissen/NLR-A1/testfiles\"\n",
    "\n",
    "def convtoblack(inputfile):\n",
    "    wfile = np.loadtxt(\"C:\\\\Users\\\\krull\\\\Desktop\\\\School\\\\Leren & Beslissen\\\\NLR-A1\\\\testfiles\\\\images amersfoort\",delimiter=',')\n",
    "    for i in wfile:\n",
    "        for j in range(0,len(wfile)-3,3):\n",
    "            sum = (i[j]+ i[j+1] + i[j+2])/3\n",
    "            # if road -> white\n",
    "            if sum < 6:\n",
    "                i[j] = 255\n",
    "                i[j+1] = 255\n",
    "                i[j+2] = 255\n",
    "            #if not road -> black\n",
    "            else:\n",
    "                i[j] = 0\n",
    "                i[j+1] = 0\n",
    "                i[j+2] = 0\n",
    "    return wfile\n",
    "convtoblack(\"C:\\\\Users\\\\krull\\\\Desktop\\\\School\\\\Leren & Beslissen\\\\NLR-A1\\\\testfiles\\\\images amersfoort\")\n",
    "#input path and path where you want the files to go\n",
    "def convtoblacktotal(path, outputpath):\n",
    "    badfiles = os.listdir(path)\n",
    "    for i in range(len(badfiles)):\n",
    "        wfile = convtoblack(badfiles[i])\n",
    "        np.savetxt(\"{}\\\\goodsegment{}.csv.\".format(outputpath,i), wfile, delimiter=\",\",fmt='%i')\n",
    "        \n",
    "# convtoblacktotal('C:\\\\Users\\\\krull\\\\Desktop\\\\School\\\\Leren & Beslissen\\\\test diek niet in github wil\\\\segmentknip', 'C:\\\\Users\\\\krull\\\\Desktop\\\\School\\\\Leren & Beslissen\\\\test diek niet in github wil\\\\segment_contrast_correct')"
   ]
  },
  {
   "cell_type": "code",
   "execution_count": null,
   "metadata": {},
   "outputs": [],
   "source": [
    "def read_as_array(tif_file):\n",
    "    image_array = []\n",
    "    for i in range(3):\n",
    "        ColorBand = tif_file.GetRasterBand(i)\n",
    "        if ColorBand == None:\n",
    "            array = np.zeros((800, 800))\n",
    "        else:\n",
    "            array = ColorBand.ReadAsArray()\n",
    "        image_array.append(array)\n",
    "    return image_array\n",
    "\n",
    "def create_image(image_array, Xmin, Xmax, Ymin, Ymax):\n",
    "    image = ''\n",
    "    R = image_array[0]\n",
    "    G = image_array[1]\n",
    "    B = image_array[2]\n",
    "    for i in range(Ymin, Ymax):\n",
    "        for j in range(Xmin, Xmax):\n",
    "            image += '{}, {}, {},'.format(R[i][j], G[i][j], B[i][j])\n",
    "        image = image[:-1]+'\\n'\n",
    "    return image"
   ]
  },
  {
   "cell_type": "code",
   "execution_count": null,
   "metadata": {},
   "outputs": [],
   "source": []
  }
 ],
 "metadata": {
  "kernelspec": {
   "display_name": "Python 3",
   "language": "python",
   "name": "python3"
  },
  "language_info": {
   "codemirror_mode": {
    "name": "ipython",
    "version": 3
   },
   "file_extension": ".py",
   "mimetype": "text/x-python",
   "name": "python",
   "nbconvert_exporter": "python",
   "pygments_lexer": "ipython3",
   "version": "3.6.7"
  }
 },
 "nbformat": 4,
 "nbformat_minor": 2
}
