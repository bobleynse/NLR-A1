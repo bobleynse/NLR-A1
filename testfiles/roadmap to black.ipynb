{
 "cells": [
  {
   "cell_type": "code",
   "execution_count": 15,
   "metadata": {},
   "outputs": [],
   "source": [
    "import tensorflow as tf\n",
    "from osgeo import gdal\n",
    "import matplotlib.pyplot as plt\n",
    "from PIL import Image\n",
    "import numpy as np\n",
    "from matplotlib.colors import LinearSegmentedColormap\n",
    "import matplotlib.colors as clr\n",
    "import os "
   ]
  },
  {
   "cell_type": "code",
   "execution_count": 19,
   "metadata": {},
   "outputs": [
    {
     "name": "stdout",
     "output_type": "stream",
     "text": [
      ".ipynb_checkpoints\n",
      "airs-master\n",
      "fullout.jpg\n",
      "fullout.jpg.aux.xml\n",
      "images amersfoort\n",
      "m5_25gn1.tif\n",
      "RGB tif Test\n",
      "roadmap to black.ipynb\n",
      "split tiff (nutteloos).ipynb\n",
      "store bands in array.ipynb\n",
      "Tensorflow tests\n",
      "test geotiff.ipynb\n",
      "test.tif\n",
      "tif to RGB NIR.ipynb\n"
     ]
    }
   ],
   "source": [
    "s = os.listdir(\"C:/Users/krull/Desktop/School/Leren & Beslissen/NLR-A1/testfiles\")\n"
   ]
  },
  {
   "cell_type": "code",
   "execution_count": 20,
   "metadata": {},
   "outputs": [],
   "source": [
    "#input path, example: \"C:/Users/krull/Desktop/School/Leren & Beslissen/NLR-A1/testfiles\"\n",
    "\n",
    "def convtoblack(file):\n",
    "    \n",
    "\n",
    "def convtoblacktotal(location):\n",
    "    imglist = os.listdir(location)"
   ]
  }
 ],
 "metadata": {
  "kernelspec": {
   "display_name": "Python 3",
   "language": "python",
   "name": "python3"
  },
  "language_info": {
   "codemirror_mode": {
    "name": "ipython",
    "version": 3
   },
   "file_extension": ".py",
   "mimetype": "text/x-python",
   "name": "python",
   "nbconvert_exporter": "python",
   "pygments_lexer": "ipython3",
   "version": "3.6.7"
  }
 },
 "nbformat": 4,
 "nbformat_minor": 2
}
