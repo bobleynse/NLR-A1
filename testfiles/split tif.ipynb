{
 "cells": [
  {
   "cell_type": "code",
   "execution_count": 23,
   "metadata": {},
   "outputs": [
    {
     "name": "stdout",
     "output_type": "stream",
     "text": [
      "<osgeo.gdal.Dataset; proxy of <Swig Object of type 'GDALDatasetShadow *' at 0x000001E1D6BE1510> >\n"
     ]
    }
   ],
   "source": [
    "from osgeo import gdal\n",
    "import numpy as np\n",
    "from tifffile import imread, imsave\n",
    "\n",
    "tif = gdal.Open('images amersfoort/tif_to_NIR.tif')\n",
    "print(tif)\n",
    "tif_as_array = tif.ReadAsArray()"
   ]
  },
  {
   "cell_type": "code",
   "execution_count": null,
   "metadata": {},
   "outputs": [
    {
     "name": "stdout",
     "output_type": "stream",
     "text": [
      "(25000, 25000)\n"
     ]
    }
   ],
   "source": [
    "print(tif_as_array.shape)\n",
    "\n",
    "step_size = 2500\n",
    "\n",
    "for Ymin in range(0, len(tif_as_array),step_size):\n",
    "    \n",
    "    for Xmin in range(0, len(tif_as_array),step_size):\n",
    "        \n",
    "        NIR = []\n",
    "        for y in range(Ymin,Ymin+step_size):\n",
    "            NIR_row = []\n",
    "            for x in range(Xmin,Xmin+step_size):\n",
    "                NIR_row.append(tif_as_array[y][x])\n",
    "\n",
    "            NIR.append(NIR_row)\n",
    "\n",
    "        NIR = np.array(NIR)\n",
    "        np.savetxt(\"sliced maps/NIR_x={}-{},y={}-{}.csv\".format(Xmin,Xmin+step_size,Ymin,Ymin+step_size), NIR, delimiter=\",\")\n",
    "\n",
    "    "
   ]
  }
 ],
 "metadata": {
  "kernelspec": {
   "display_name": "Python 3",
   "language": "python",
   "name": "python3"
  },
  "language_info": {
   "codemirror_mode": {
    "name": "ipython",
    "version": 3
   },
   "file_extension": ".py",
   "mimetype": "text/x-python",
   "name": "python",
   "nbconvert_exporter": "python",
   "pygments_lexer": "ipython3",
   "version": "3.6.7"
  }
 },
 "nbformat": 4,
 "nbformat_minor": 2
}
