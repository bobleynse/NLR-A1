{
 "cells": [
  {
   "cell_type": "code",
   "execution_count": 2,
   "metadata": {},
   "outputs": [
    {
     "name": "stdout",
     "output_type": "stream",
     "text": [
      "15\n"
     ]
    }
   ],
   "source": [
    "import tensorflow as tf\n",
    "from osgeo import gdal\n",
    "import matplotlib.pyplot as plt\n",
    "from PIL import Image\n",
    "import numpy as np\n",
    "from matplotlib.colors import LinearSegmentedColormap\n",
    "import matplotlib.colors as clr\n",
    "import os\n",
    "    \n",
    "src_ds = gdal.Open(\"images amersfoort/top10nl_wegvlak_amersfoort.tif\")\n",
    "# print(src_ds)\n",
    "data = src_ds.ReadAsArray()\n",
    "print(data[0][0])\n",
    "# colors = ['NIR', 'Red', 'Green', 'Blue']\n",
    "# cmap = ['White', 'Red', 'Green', 'Blue']\n",
    "cm = clr.LinearSegmentedColormap.from_list('red', ['black','white'], N=256)\n",
    "# plt.imshow(data[0],cmap=cm,alpha=0.25)\n",
    "# plt.imshow(data[1],cmap=cm,alpha=0.25)\n",
    "# plt.imshow(data[2],cmap=cm,alpha=0.25)\n",
    "# plt.imshow(data[3],cmap=cm,alpha=0.25)\n",
    "# plt.show()"
   ]
  },
  {
   "cell_type": "code",
   "execution_count": 5,
   "metadata": {},
   "outputs": [
    {
     "ename": "KeyboardInterrupt",
     "evalue": "",
     "output_type": "error",
     "traceback": [
      "\u001b[1;31m---------------------------------------------------------------------------\u001b[0m",
      "\u001b[1;31mKeyboardInterrupt\u001b[0m                         Traceback (most recent call last)",
      "\u001b[1;31mKeyboardInterrupt\u001b[0m: "
     ]
    }
   ],
   "source": [
    "tmp_ds = gdal.Warp('temp', 'images amersfoort/top10nl_wegvlak_amersfoort.tif', format = 'MEM', dstSRS = 'EPSG:3857')\n",
    "# gdal.Translate('fullout.jpg', tmp_ds, format = 'JPEG')"
   ]
  },
  {
   "cell_type": "code",
   "execution_count": 9,
   "metadata": {},
   "outputs": [
    {
     "name": "stdout",
     "output_type": "stream",
     "text": [
      "None\n"
     ]
    }
   ],
   "source": [
    "source = gdal.Open('testfiles/airs-master/airs-dataset/test-input/10228690_15.tif')\n",
    "print(source)"
   ]
  },
  {
   "cell_type": "code",
   "execution_count": 4,
   "metadata": {
    "scrolled": true
   },
   "outputs": [
    {
     "name": "stdout",
     "output_type": "stream",
     "text": [
      "Driver: GTiff/GeoTIFF\n",
      "Files: images amersfoort/top10nl_wegvlak_amersfoort.tif\n",
      "       images amersfoort/top10nl_wegvlak_amersfoort.tif.ovr\n",
      "       images amersfoort/top10nl_wegvlak_amersfoort.tif.aux.xml\n",
      "Size is 25001, 25001\n",
      "Coordinate System is:\n",
      "PROJCS[\"RD_New\",\n",
      "    GEOGCS[\"Amersfoort\",\n",
      "        DATUM[\"Amersfoort\",\n",
      "            SPHEROID[\"Bessel 1841\",6377397.155,299.1528128000033,\n",
      "                AUTHORITY[\"EPSG\",\"7004\"]],\n",
      "            AUTHORITY[\"EPSG\",\"6289\"]],\n",
      "        PRIMEM[\"Greenwich\",0],\n",
      "        UNIT[\"degree\",0.0174532925199433],\n",
      "        AUTHORITY[\"EPSG\",\"4289\"]],\n",
      "    PROJECTION[\"Oblique_Stereographic\"],\n",
      "    PARAMETER[\"latitude_of_origin\",52.15616055555555],\n",
      "    PARAMETER[\"central_meridian\",5.38763888888889],\n",
      "    PARAMETER[\"scale_factor\",0.9999079],\n",
      "    PARAMETER[\"false_easting\",155000],\n",
      "    PARAMETER[\"false_northing\",463000],\n",
      "    UNIT[\"metre\",1,\n",
      "        AUTHORITY[\"EPSG\",\"9001\"]],\n",
      "    AUTHORITY[\"EPSG\",\"28992\"]]\n",
      "Origin = (143999.706973082240438,474000.728848716826178)\n",
      "Pixel Size = (0.800000000000000,-0.800000000000000)\n",
      "Metadata:\n",
      "  AREA_OR_POINT=Area\n",
      "Image Structure Metadata:\n",
      "  COMPRESSION=LZW\n",
      "  INTERLEAVE=BAND\n",
      "Corner Coordinates:\n",
      "Upper Left  (  143999.707,  474000.729) (  5d13'35.46\"E, 52d15'17.77\"N)\n",
      "Lower Left  (  143999.707,  453999.929) (  5d13'37.79\"E, 52d 4'30.54\"N)\n",
      "Upper Right (  164000.507,  474000.729) (  5d31'10.10\"E, 52d15'17.90\"N)\n",
      "Lower Right (  164000.507,  453999.929) (  5d31' 8.19\"E, 52d 4'30.67\"N)\n",
      "Center      (  154000.107,  464000.329) (  5d22'22.88\"E, 52d 9'54.55\"N)\n",
      "Band 1 Block=128x128 Type=Byte, ColorInterp=Gray\n",
      "  Min=1.000 Max=13.000 \n",
      "  Minimum=1.000, Maximum=13.000, Mean=5.912, StdDev=2.991\n",
      "  NoData Value=15\n",
      "  Overviews: 12501x12501, 6251x6251, 3126x3126, 1563x1563, 782x782, 391x391, 196x196\n",
      "  Metadata:\n",
      "    RepresentationType=ATHEMATIC\n",
      "    STATISTICS_MAXIMUM=13\n",
      "    STATISTICS_MEAN=5.911781075263\n",
      "    STATISTICS_MINIMUM=1\n",
      "    STATISTICS_SKIPFACTORX=1\n",
      "    STATISTICS_SKIPFACTORY=1\n",
      "    STATISTICS_STDDEV=2.991284042325\n",
      "  Image Structure Metadata:\n",
      "    NBITS=4\n",
      "\n"
     ]
    },
    {
     "data": {
      "text/plain": [
       "'success'"
      ]
     },
     "execution_count": 4,
     "metadata": {},
     "output_type": "execute_result"
    }
   ],
   "source": [
    "def test_gdalinfo_lib_1():\n",
    "\n",
    "    ds = gdal.Open('images amersfoort/top10nl_wegvlak_amersfoort.tif')\n",
    "\n",
    "    ret = gdal.Info(ds)\n",
    "    print(ret)\n",
    "    if ret.find('Driver: GTiff/GeoTIFF') == -1:\n",
    "        gdaltest.post_reason('did not get expected string.')\n",
    "        print(ret)\n",
    "        return 'fail'\n",
    "\n",
    "    return 'success'\n",
    "\n",
    "test_gdalinfo_lib_1()\n"
   ]
  },
  {
   "cell_type": "code",
   "execution_count": 18,
   "metadata": {},
   "outputs": [],
   "source": [
    "ds_full = gdal.Open('triplesat_20180418_amersfoort.tif')\n",
    "\n",
    "R = ds_full.GetRasterBand(1).ReadAsArray()\n",
    "G = ds_full.GetRasterBand(2).ReadAsArray()\n",
    "B = ds_full.GetRasterBand(3).ReadAsArray()\n",
    "NIR = ds_full.GetRasterBand(4).ReadAsArray()"
   ]
  },
  {
   "cell_type": "code",
   "execution_count": 21,
   "metadata": {},
   "outputs": [
    {
     "ename": "TypeError",
     "evalue": "in method 'TranslateInternal', argument 2 of type 'GDALDatasetShadow *'",
     "output_type": "error",
     "traceback": [
      "\u001b[1;31m---------------------------------------------------------------------------\u001b[0m",
      "\u001b[1;31mTypeError\u001b[0m                                 Traceback (most recent call last)",
      "\u001b[1;32m<ipython-input-21-a94c08a6c69f>\u001b[0m in \u001b[0;36m<module>\u001b[1;34m\u001b[0m\n\u001b[0;32m     17\u001b[0m         \u001b[0mtransopt\u001b[0m \u001b[1;33m=\u001b[0m \u001b[0mgdal\u001b[0m\u001b[1;33m.\u001b[0m\u001b[0mTranslateOptions\u001b[0m\u001b[1;33m(\u001b[0m\u001b[0mformat\u001b[0m\u001b[1;33m=\u001b[0m\u001b[1;34m\"GTIFF\"\u001b[0m\u001b[1;33m,\u001b[0m \u001b[0msrcWin\u001b[0m\u001b[1;33m=\u001b[0m\u001b[1;33m[\u001b[0m\u001b[1;36m0\u001b[0m\u001b[1;33m,\u001b[0m\u001b[1;36m25001\u001b[0m\u001b[1;33m,\u001b[0m\u001b[0mtile_size_x\u001b[0m\u001b[1;33m,\u001b[0m\u001b[0mtile_size_y\u001b[0m\u001b[1;33m]\u001b[0m\u001b[1;33m)\u001b[0m\u001b[1;33m\u001b[0m\u001b[1;33m\u001b[0m\u001b[0m\n\u001b[0;32m     18\u001b[0m \u001b[1;31m#         com_string = \"gdal_translate -of GTIFF -srcwin \" + str(i)+ \", \" + str(j) + \", \" + str(tile_size_x) + \", \" + str(tile_size_y) + \" \" + str(in_path) + str(input_filename) + \" \" + str(out_path) + str(output_filename) + str(i) + \"_\" + str(j) + \".tif\"\u001b[0m\u001b[1;33m\u001b[0m\u001b[1;33m\u001b[0m\u001b[1;33m\u001b[0m\u001b[0m\n\u001b[1;32m---> 19\u001b[1;33m         \u001b[0mgdal\u001b[0m\u001b[1;33m.\u001b[0m\u001b[0mTranslate\u001b[0m\u001b[1;33m(\u001b[0m\u001b[1;34m'yeet'\u001b[0m\u001b[1;33m,\u001b[0m\u001b[0mtransopt\u001b[0m\u001b[1;33m)\u001b[0m\u001b[1;33m\u001b[0m\u001b[1;33m\u001b[0m\u001b[0m\n\u001b[0m",
      "\u001b[1;32mc:\\users\\krull\\appdata\\local\\programs\\python\\python36\\lib\\site-packages\\osgeo\\gdal.py\u001b[0m in \u001b[0;36mTranslate\u001b[1;34m(destName, srcDS, **kwargs)\u001b[0m\n\u001b[0;32m    399\u001b[0m         \u001b[0msrcDS\u001b[0m \u001b[1;33m=\u001b[0m \u001b[0mOpen\u001b[0m\u001b[1;33m(\u001b[0m\u001b[0msrcDS\u001b[0m\u001b[1;33m)\u001b[0m\u001b[1;33m\u001b[0m\u001b[1;33m\u001b[0m\u001b[0m\n\u001b[0;32m    400\u001b[0m \u001b[1;33m\u001b[0m\u001b[0m\n\u001b[1;32m--> 401\u001b[1;33m     \u001b[1;32mreturn\u001b[0m \u001b[0mTranslateInternal\u001b[0m\u001b[1;33m(\u001b[0m\u001b[0mdestName\u001b[0m\u001b[1;33m,\u001b[0m \u001b[0msrcDS\u001b[0m\u001b[1;33m,\u001b[0m \u001b[0mopts\u001b[0m\u001b[1;33m,\u001b[0m \u001b[0mcallback\u001b[0m\u001b[1;33m,\u001b[0m \u001b[0mcallback_data\u001b[0m\u001b[1;33m)\u001b[0m\u001b[1;33m\u001b[0m\u001b[1;33m\u001b[0m\u001b[0m\n\u001b[0m\u001b[0;32m    402\u001b[0m \u001b[1;33m\u001b[0m\u001b[0m\n\u001b[0;32m    403\u001b[0m def WarpOptions(options = [], format = None,\n",
      "\u001b[1;32mc:\\users\\krull\\appdata\\local\\programs\\python\\python36\\lib\\site-packages\\osgeo\\gdal.py\u001b[0m in \u001b[0;36mTranslateInternal\u001b[1;34m(*args)\u001b[0m\n\u001b[0;32m   3039\u001b[0m \u001b[1;32mdef\u001b[0m \u001b[0mTranslateInternal\u001b[0m\u001b[1;33m(\u001b[0m\u001b[1;33m*\u001b[0m\u001b[0margs\u001b[0m\u001b[1;33m)\u001b[0m\u001b[1;33m:\u001b[0m\u001b[1;33m\u001b[0m\u001b[1;33m\u001b[0m\u001b[0m\n\u001b[0;32m   3040\u001b[0m     \u001b[1;34m\"\"\"TranslateInternal(char const * dest, Dataset dataset, GDALTranslateOptions translateOptions, GDALProgressFunc callback=0, void * callback_data=None) -> Dataset\"\"\"\u001b[0m\u001b[1;33m\u001b[0m\u001b[1;33m\u001b[0m\u001b[0m\n\u001b[1;32m-> 3041\u001b[1;33m     \u001b[1;32mreturn\u001b[0m \u001b[0m_gdal\u001b[0m\u001b[1;33m.\u001b[0m\u001b[0mTranslateInternal\u001b[0m\u001b[1;33m(\u001b[0m\u001b[1;33m*\u001b[0m\u001b[0margs\u001b[0m\u001b[1;33m)\u001b[0m\u001b[1;33m\u001b[0m\u001b[1;33m\u001b[0m\u001b[0m\n\u001b[0m\u001b[0;32m   3042\u001b[0m \u001b[1;32mclass\u001b[0m \u001b[0mGDALWarpAppOptions\u001b[0m\u001b[1;33m(\u001b[0m\u001b[0mobject\u001b[0m\u001b[1;33m)\u001b[0m\u001b[1;33m:\u001b[0m\u001b[1;33m\u001b[0m\u001b[1;33m\u001b[0m\u001b[0m\n\u001b[0;32m   3043\u001b[0m     \u001b[1;34m\"\"\"Proxy of C++ GDALWarpAppOptions class.\"\"\"\u001b[0m\u001b[1;33m\u001b[0m\u001b[1;33m\u001b[0m\u001b[0m\n",
      "\u001b[1;31mTypeError\u001b[0m: in method 'TranslateInternal', argument 2 of type 'GDALDatasetShadow *'"
     ]
    }
   ],
   "source": [
    "in_path = 'C:/Users/krull/Desktop/School/Leren & Beslissen/Dataset'\n",
    "input_filename = 'top10nl_wegvlak_amersfoort.tif'\n",
    "\n",
    "out_path = 'C:/Users/krull/Desktop/School/Leren & Beslissen/Dataset/small tiffs'\n",
    "output_filename = 'tile_'\n",
    "\n",
    "tile_size_x = 2500\n",
    "tile_size_y = 2500\n",
    "\n",
    "ds = gdal.Open('top10nl_wegvlak_amersfoort.tif')\n",
    "band = ds.GetRasterBand(1)\n",
    "xsize = band.XSize\n",
    "ysize = band.YSize\n",
    "\n",
    "for i in range(0, xsize, tile_size_x):\n",
    "    for j in range(0, ysize, tile_size_y):\n",
    "        transopt = gdal.TranslateOptions(format=\"GTIFF\", srcWin=[0,25001,tile_size_x,tile_size_y])\n",
    "#         com_string = \"gdal_translate -of GTIFF -srcwin \" + str(i)+ \", \" + str(j) + \", \" + str(tile_size_x) + \", \" + str(tile_size_y) + \" \" + str(in_path) + str(input_filename) + \" \" + str(out_path) + str(output_filename) + str(i) + \"_\" + str(j) + \".tif\"\n",
    "        gdal.Translate('yeet',transopt)"
   ]
  }
 ],
 "metadata": {
  "kernelspec": {
   "display_name": "Python 3",
   "language": "python",
   "name": "python3"
  },
  "language_info": {
   "codemirror_mode": {
    "name": "ipython",
    "version": 3
   },
   "file_extension": ".py",
   "mimetype": "text/x-python",
   "name": "python",
   "nbconvert_exporter": "python",
   "pygments_lexer": "ipython3",
   "version": "3.6.5"
  }
 },
 "nbformat": 4,
 "nbformat_minor": 2
}
