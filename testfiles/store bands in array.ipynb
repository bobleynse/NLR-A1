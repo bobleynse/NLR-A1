{
 "cells": [
  {
   "cell_type": "code",
   "execution_count": 1,
   "metadata": {},
   "outputs": [
    {
     "name": "stdout",
     "output_type": "stream",
     "text": [
      "[[  3.40282347e+38   4.51999992e-01   3.23000014e-01 ...,   3.40282347e+38\n",
      "    3.40282347e+38   3.40282347e+38]\n",
      " [  3.40282347e+38   5.46999991e-01   3.98999989e-01 ...,   3.40282347e+38\n",
      "    3.14599991e+00   3.12800002e+00]\n",
      " [  3.40282347e+38   2.09999993e-01   2.66000003e-01 ...,   3.00500011e+00\n",
      "    2.96000004e+00   2.92000008e+00]\n",
      " ..., \n",
      " [ -4.11899996e+00  -4.14200020e+00  -4.13899994e+00 ...,  -7.87000000e-01\n",
      "   -6.91999972e-01  -6.20000005e-01]\n",
      " [ -4.09600019e+00  -4.07299995e+00  -4.10400009e+00 ...,  -7.62000024e-01\n",
      "   -7.17999995e-01  -7.22000003e-01]\n",
      " [ -4.35500002e+00  -4.66900015e+00  -4.25699997e+00 ...,  -7.32999980e-01\n",
      "   -6.71000004e-01  -6.74000025e-01]]\n"
     ]
    },
    {
     "data": {
      "text/plain": [
       "<matplotlib.figure.Figure at 0x7faf545b93c8>"
      ]
     },
     "metadata": {},
     "output_type": "display_data"
    },
    {
     "ename": "AttributeError",
     "evalue": "'numpy.ndarray' object has no attribute 'save'",
     "output_type": "error",
     "traceback": [
      "\u001b[0;31m---------------------------------------------------------------------------\u001b[0m",
      "\u001b[0;31mAttributeError\u001b[0m                            Traceback (most recent call last)",
      "\u001b[0;32m<ipython-input-1-34c25800d5d7>\u001b[0m in \u001b[0;36m<module>\u001b[0;34m()\u001b[0m\n\u001b[1;32m     10\u001b[0m \u001b[0mplt\u001b[0m\u001b[0;34m.\u001b[0m\u001b[0mshow\u001b[0m\u001b[0;34m(\u001b[0m\u001b[0;34m)\u001b[0m\u001b[0;34m\u001b[0m\u001b[0;34m\u001b[0m\u001b[0m\n\u001b[1;32m     11\u001b[0m \u001b[0;34m\u001b[0m\u001b[0m\n\u001b[0;32m---> 12\u001b[0;31m \u001b[0mdata\u001b[0m\u001b[0;34m.\u001b[0m\u001b[0msave\u001b[0m\u001b[0;34m(\u001b[0m\u001b[0;34m'testplot.jpg'\u001b[0m\u001b[0;34m,\u001b[0m\u001b[0;34m'JPEG'\u001b[0m\u001b[0;34m)\u001b[0m\u001b[0;34m\u001b[0m\u001b[0;34m\u001b[0m\u001b[0m\n\u001b[0m",
      "\u001b[0;31mAttributeError\u001b[0m: 'numpy.ndarray' object has no attribute 'save'"
     ]
    }
   ],
   "source": [
    "from osgeo import gdal, ogr\n",
    "import matplotlib.pyplot as plt\n",
    "\n",
    "src_ds = gdal.Open( \"m5_25gn1.tif\" )\n",
    "\n",
    "data = src_ds.ReadAsArray()\n",
    "\n",
    "print(data)\n",
    "plt.imshow(data)\n",
    "plt.show()\n",
    "\n",
    "data.save('testplot.jpg','JPEG')"
   ]
  }
 ],
 "metadata": {
  "kernelspec": {
   "display_name": "Python 3",
   "language": "python",
   "name": "python3"
  },
  "language_info": {
   "codemirror_mode": {
    "name": "ipython",
    "version": 3
   },
   "file_extension": ".py",
   "mimetype": "text/x-python",
   "name": "python",
   "nbconvert_exporter": "python",
   "pygments_lexer": "ipython3",
   "version": "3.6.7"
  }
 },
 "nbformat": 4,
 "nbformat_minor": 2
}
