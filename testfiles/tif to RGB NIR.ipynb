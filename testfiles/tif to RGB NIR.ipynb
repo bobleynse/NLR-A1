{
 "cells": [
  {
   "cell_type": "code",
   "execution_count": 1,
   "metadata": {},
   "outputs": [],
   "source": [
    "import tensorflow as tf\n",
    "from osgeo import gdal\n",
    "import matplotlib.pyplot as plt\n",
    "from PIL import Image\n",
    "import numpy as np\n",
    "from matplotlib.colors import LinearSegmentedColormap\n",
    "import matplotlib.colors as clr\n",
    "\n",
    "ds=gdal.Open('images amersfoort/triplesat_20180418_amersfoort.tif')"
   ]
  },
  {
   "cell_type": "code",
   "execution_count": 2,
   "metadata": {},
   "outputs": [],
   "source": [
    "R = ds.GetRasterBand(1).ReadAsArray()\n",
    "G = ds.GetRasterBand(2).ReadAsArray()\n",
    "B = ds.GetRasterBand(3).ReadAsArray()"
   ]
  },
  {
   "cell_type": "code",
   "execution_count": 15,
   "metadata": {},
   "outputs": [],
   "source": [
    "NIR = ds.GetRasterBand(4).ReadAsArray()"
   ]
  },
  {
   "cell_type": "code",
   "execution_count": 3,
   "metadata": {},
   "outputs": [
    {
     "name": "stdout",
     "output_type": "stream",
     "text": [
      "[[1220 1118  914 ...  626  635  646]\n",
      " [1222 1195 1030 ...  675  638  652]\n",
      " [1148 1245 1102 ...  673  645  682]\n",
      " ...\n",
      " [ 878  841  847 ...  763  762  767]\n",
      " [ 865  869  860 ...  785  763  787]\n",
      " [ 834  827  818 ...  793  779  801]]\n",
      "[[1196 1073  816 ...  472  479  489]\n",
      " [1192 1152  946 ...  526  479  493]\n",
      " [1098 1199 1021 ...  520  484  526]\n",
      " ...\n",
      " [ 683  640  647 ...  589  585  586]\n",
      " [ 666  669  659 ...  614  584  605]\n",
      " [ 627  616  606 ...  620  597  615]]\n",
      "[[1166  978  667 ...  267  274  286]\n",
      " [1156 1074  822 ...  329  274  290]\n",
      " [1042 1132  916 ...  321  278  328]\n",
      " ...\n",
      " [ 497  444  451 ...  492  486  487]\n",
      " [ 477  482  466 ...  520  482  507]\n",
      " [ 430  418  401 ...  526  497  518]]\n"
     ]
    }
   ],
   "source": [
    "print(R)\n",
    "print(G)\n",
    "print(B)\n",
    "# print(NIR)"
   ]
  },
  {
   "cell_type": "code",
   "execution_count": null,
   "metadata": {},
   "outputs": [
    {
     "name": "stdout",
     "output_type": "stream",
     "text": [
      "0\n",
      "100\n",
      "200\n",
      "300\n",
      "400\n",
      "500\n",
      "600\n",
      "700\n",
      "800\n",
      "900\n",
      "1000\n",
      "1100\n",
      "1200\n",
      "1300\n",
      "1400\n",
      "1500\n",
      "1600\n",
      "1700\n",
      "1800\n",
      "1900\n",
      "2000\n",
      "2100\n",
      "2200\n",
      "2300\n",
      "2400\n",
      "2500\n",
      "2600\n"
     ]
    }
   ],
   "source": [
    "row = range(len(R))\n",
    "column = range(len(R[0]))\n",
    "\n",
    "rgb = []\n",
    "for i in row:\n",
    "    if i % 100 == 0:\n",
    "        print(i)\n",
    "    rgb_row = []\n",
    "    for j in column:\n",
    "        rgb_row.append([(R[i][j]), (G[i][j]), (B[i][j])])\n",
    "        \n",
    "    rgb.append(rgb_row)\n",
    "        \n",
    "rgb = np.array(rgb)"
   ]
  },
  {
   "cell_type": "code",
   "execution_count": null,
   "metadata": {},
   "outputs": [],
   "source": [
    "file = open('rgb.txt','w')\n",
    "file.write(rgb)\n",
    "file.close()"
   ]
  },
  {
   "cell_type": "code",
   "execution_count": 34,
   "metadata": {},
   "outputs": [
    {
     "name": "stdout",
     "output_type": "stream",
     "text": [
      "(0,)\n"
     ]
    }
   ],
   "source": [
    "print(rgb.shape)\n",
    "\n",
    "# plt.imshow(rgb)\n",
    "# plt.show()\n",
    "\n",
    "# rgb_map = Image.fromarray(rgb, 'RGB')\n",
    "# rgb_map.save('rgb_map.tif')"
   ]
  },
  {
   "cell_type": "code",
   "execution_count": null,
   "metadata": {},
   "outputs": [],
   "source": [
    "rgb_map = Image.fromarray(NIR, 'RGB')\n",
    "rgb_map.save('NIR_map.tif')"
   ]
  }
 ],
 "metadata": {
  "kernelspec": {
   "display_name": "Python 3",
   "language": "python",
   "name": "python3"
  },
  "language_info": {
   "codemirror_mode": {
    "name": "ipython",
    "version": 3
   },
   "file_extension": ".py",
   "mimetype": "text/x-python",
   "name": "python",
   "nbconvert_exporter": "python",
   "pygments_lexer": "ipython3",
   "version": "3.6.7"
  }
 },
 "nbformat": 4,
 "nbformat_minor": 2
}
