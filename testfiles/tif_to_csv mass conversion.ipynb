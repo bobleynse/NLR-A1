{
 "cells": [
  {
   "cell_type": "code",
   "execution_count": 20,
   "metadata": {},
   "outputs": [],
   "source": [
    "import tensorflow as tf\n",
    "from osgeo import gdal\n",
    "import matplotlib.pyplot as plt\n",
    "from PIL import Image\n",
    "import numpy as np\n",
    "from matplotlib.colors import LinearSegmentedColormap\n",
    "import matplotlib.colors as clr\n",
    "from tifffile import imread, imsave\n",
    "import os\n",
    "\n",
    "ds=gdal.Open('triplesat_20180418_amersfoort.tif')"
   ]
  },
  {
   "cell_type": "markdown",
   "metadata": {},
   "source": [
    "## Converting tif file to csv file:\n",
    "\n",
    "The function <b>read_as_array</b> reads the red, green and blue raster bands of a tif file and returns an array of pixel values.\n",
    "\n",
    "<b>create_image</b> orders the values in image_array in the correct way to be exported as a .csv file."
   ]
  },
  {
   "cell_type": "code",
   "execution_count": 21,
   "metadata": {},
   "outputs": [],
   "source": [
    "def read_as_array(tif_file):\n",
    "    image_array = []\n",
    "    for i in range(3):\n",
    "        ColorBand = tif_file.GetRasterBand(i+1)\n",
    "        if ColorBand == None:\n",
    "            array = np.zeros((300, 300))\n",
    "            print(i)\n",
    "        else:\n",
    "            array = ColorBand.ReadAsArray()\n",
    "        image_array.append(array)\n",
    "    return image_array\n",
    "\n",
    "def create_image(image_array, Xmin, Xmax, Ymin, Ymax):\n",
    "    image = ''\n",
    "    R = image_array[0]\n",
    "    G = image_array[1]\n",
    "    B = image_array[2]\n",
    "    for i in range(Ymin, Ymax):\n",
    "        for j in range(Xmin, Xmax):\n",
    "            image += '{}, {}, {},'.format(R[i][j], G[i][j], B[i][j])\n",
    "        image = image[:-1]+'\\n'\n",
    "    return image"
   ]
  },
  {
   "cell_type": "markdown",
   "metadata": {},
   "source": [
    "## Converting csv file to tif file grayband:"
   ]
  },
  {
   "cell_type": "code",
   "execution_count": 30,
   "metadata": {},
   "outputs": [
    {
     "name": "stdout",
     "output_type": "stream",
     "text": [
      "(2500, 2500, 1)\n"
     ]
    }
   ],
   "source": [
    "test = np.loadtxt('segment_contrast_correct_csv\\\\goodsegment0.csv',delimiter=',')\n",
    "\n",
    "R = []\n",
    "for i in range(len(test)):\n",
    "    R_row = test[i][0::1]\n",
    "    R.append(R_row)\n",
    "    \n",
    "tif_test = np.array([R])\n",
    "tif_test = tif_test.reshape((tif_test.shape[1],tif_test.shape[2],1))\n",
    "print(tif_test.shape)\n",
    "# imsave('segment_correct_tif1.tif', tif_test)"
   ]
  },
  {
   "cell_type": "code",
   "execution_count": 35,
   "metadata": {},
   "outputs": [],
   "source": [
    "#input file path to folder\n",
    "def csv_to_tif(path):\n",
    "    csv = os.listdir(path)\n",
    "    for i in range(len(csv)):\n",
    "        csvarray = np.loadtxt('segment_contrast_correct_csv\\\\{}'.format(csv[i]),delimiter=',')\n",
    "        csvarray = csvarray.reshape((2500,2500,1))\n",
    "        imsave('segment_processed_tiff\\\\segmented_tiff{}.tif'.format(i), csvarray)\n",
    "csv_to_tif('C:\\\\Users\\\\krull\\\\Desktop\\\\School\\\\Leren & Beslissen\\\\test diek niet in github wil\\\\segment_contrast_correct_csv')"
   ]
  },
  {
   "cell_type": "markdown",
   "metadata": {},
   "source": [
    "## Converting csv file to tif file rgb:"
   ]
  },
  {
   "cell_type": "code",
   "execution_count": 38,
   "metadata": {},
   "outputs": [
    {
     "name": "stdout",
     "output_type": "stream",
     "text": [
      "(3, 2500)\n"
     ]
    }
   ],
   "source": [
    "rgb = np.loadtxt('knip.csv',delimiter=',')\n",
    "\n",
    "    \n",
    "rgb_tif = np.array([R, G, B])\n",
    "print(rgb_tif.shape)\n",
    "\n",
    "def csv_to_tif(path):\n",
    "    csv = os.listdir(path)\n",
    "    R = []\n",
    "    G = []\n",
    "    B = []\n",
    "    for i in range(len(csv)):\n",
    "        rgb = np.loadtxt(csv[i],delimiter=',')\n",
    "        R_row = rgb[i][0::3]\n",
    "        G_row = rgb[i][1::3]\n",
    "        B_row = rgb[i][2::3]\n",
    "        R.append(R_row)\n",
    "        G.append(G_row)    \n",
    "        B.append(B_row)\n",
    "        rgb_array = np.rgb_array([R, G, B])\n",
    "        rgb_array = rgb_array.reshape((2500,2500,1))\n",
    "        imsave('segment_processed_tiff\\\\segmented_tiff{}.tif'.format(i), csvarray)"
   ]
  }
 ],
 "metadata": {
  "kernelspec": {
   "display_name": "Python 3",
   "language": "python",
   "name": "python3"
  },
  "language_info": {
   "codemirror_mode": {
    "name": "ipython",
    "version": 3
   },
   "file_extension": ".py",
   "mimetype": "text/x-python",
   "name": "python",
   "nbconvert_exporter": "python",
   "pygments_lexer": "ipython3",
   "version": "3.6.7"
  }
 },
 "nbformat": 4,
 "nbformat_minor": 2
}
