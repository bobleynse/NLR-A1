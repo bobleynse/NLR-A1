{
 "cells": [
  {
   "cell_type": "code",
   "execution_count": 1,
   "metadata": {},
   "outputs": [],
   "source": [
    "import tensorflow as tf\n",
    "from osgeo import gdal\n",
    "import matplotlib.pyplot as plt\n",
    "from PIL import Image\n",
    "import numpy as np\n",
    "from matplotlib.colors import LinearSegmentedColormap\n",
    "import matplotlib.colors as clr\n",
    "\n",
    "ds=gdal.Open('images amersfoort/top10nl_wegvlak_amersfoort.tif')"
   ]
  },
  {
   "cell_type": "markdown",
   "metadata": {},
   "source": [
    "## Converting tif file to csv file:\n",
    "\n",
    "The function <b>read_as_array</b> reads the red, green and blue raster bands of a tif file and returns an array of pixel values.\n",
    "\n",
    "<b>create_image</b> orders the values in image_array in the correct way to be exported as a .csv file."
   ]
  },
  {
   "cell_type": "code",
   "execution_count": 2,
   "metadata": {},
   "outputs": [],
   "source": [
    "def read_as_array(tif_file):\n",
    "    image_array = []\n",
    "    for i in range(3):\n",
    "        ColorBand = tif_file.GetRasterBand(i)\n",
    "        if ColorBand == None:\n",
    "            array = np.zeros((300, 300))\n",
    "        else:\n",
    "            array = ColorBand.ReadAsArray()\n",
    "        image_array.append(array)\n",
    "    return image_array\n",
    "\n",
    "def create_image(image_array, Xmin, Xmax, Ymin, Ymax):\n",
    "    image = ''\n",
    "    R = image_array[0]\n",
    "    G = image_array[1]\n",
    "    B = image_array[2]\n",
    "    for i in range(Ymin, Ymax):\n",
    "        for j in range(Xmin, Xmax):\n",
    "            image += '{}, {}, {},'.format(R[i][j], G[i][j], B[i][j])\n",
    "        image = image[:-1]+'\\n'\n",
    "    return image"
   ]
  },
  {
   "cell_type": "code",
   "execution_count": 3,
   "metadata": {},
   "outputs": [
    {
     "name": "stdout",
     "output_type": "stream",
     "text": [
      "[array([[ 0.,  0.,  0., ...,  0.,  0.,  0.],\n",
      "       [ 0.,  0.,  0., ...,  0.,  0.,  0.],\n",
      "       [ 0.,  0.,  0., ...,  0.,  0.,  0.],\n",
      "       ..., \n",
      "       [ 0.,  0.,  0., ...,  0.,  0.,  0.],\n",
      "       [ 0.,  0.,  0., ...,  0.,  0.,  0.],\n",
      "       [ 0.,  0.,  0., ...,  0.,  0.,  0.]]), array([[15, 15, 15, ..., 15, 15, 15],\n",
      "       [15, 15, 15, ..., 15, 15, 15],\n",
      "       [15, 15, 15, ..., 15, 15, 15],\n",
      "       ..., \n",
      "       [15, 15, 15, ..., 15, 15, 15],\n",
      "       [15, 15, 15, ..., 15, 15, 15],\n",
      "       [15, 15, 15, ..., 15, 15, 15]], dtype=uint8), array([[ 0.,  0.,  0., ...,  0.,  0.,  0.],\n",
      "       [ 0.,  0.,  0., ...,  0.,  0.,  0.],\n",
      "       [ 0.,  0.,  0., ...,  0.,  0.,  0.],\n",
      "       ..., \n",
      "       [ 0.,  0.,  0., ...,  0.,  0.,  0.],\n",
      "       [ 0.,  0.,  0., ...,  0.,  0.,  0.],\n",
      "       [ 0.,  0.,  0., ...,  0.,  0.,  0.]])]\n"
     ]
    }
   ],
   "source": [
    "image_array = read_as_array(ds)\n",
    "print(image_array)\n",
    "test = create_image(image_array, 0, 100, 0, 100)\n",
    "train = create_image(image_array, 100, 200, 0, 100)\n",
    "valid = create_image(image_array, 200, 300, 0, 100)"
   ]
  },
  {
   "cell_type": "code",
   "execution_count": 4,
   "metadata": {},
   "outputs": [
    {
     "data": {
      "text/plain": [
       "129004"
      ]
     },
     "execution_count": 4,
     "metadata": {},
     "output_type": "execute_result"
    }
   ],
   "source": [
    "import csv\n",
    "\n",
    "file = open('test.csv', 'w')\n",
    "\n",
    "file.write(test)"
   ]
  },
  {
   "cell_type": "code",
   "execution_count": 5,
   "metadata": {},
   "outputs": [
    {
     "data": {
      "text/plain": [
       "127865"
      ]
     },
     "execution_count": 5,
     "metadata": {},
     "output_type": "execute_result"
    }
   ],
   "source": [
    "file = open('train.csv', 'w')\n",
    "\n",
    "file.write(train)"
   ]
  },
  {
   "cell_type": "code",
   "execution_count": 6,
   "metadata": {},
   "outputs": [
    {
     "data": {
      "text/plain": [
       "128699"
      ]
     },
     "execution_count": 6,
     "metadata": {},
     "output_type": "execute_result"
    }
   ],
   "source": [
    "file = open('valid.csv', 'w')\n",
    "\n",
    "file.write(valid)"
   ]
  },
  {
   "cell_type": "markdown",
   "metadata": {},
   "source": [
    "## Converting csv file to tif file:"
   ]
  },
  {
   "cell_type": "code",
   "execution_count": 39,
   "metadata": {},
   "outputs": [
    {
     "name": "stdout",
     "output_type": "stream",
     "text": [
      "(3, 100, 100)\n"
     ]
    },
    {
     "data": {
      "text/plain": [
       "0.0"
      ]
     },
     "execution_count": 39,
     "metadata": {},
     "output_type": "execute_result"
    }
   ],
   "source": [
    "test = np.loadtxt('test.csv',delimiter=',')\n",
    "\n",
    "R = []\n",
    "G = []\n",
    "B = []\n",
    "for i in range(len(test)):\n",
    "    R_row = test[i][0::3]\n",
    "    G_row = test[i][1::3]\n",
    "    B_row = test[i][2::3]\n",
    "    R.append(R_row)\n",
    "    G.append(G_row)    \n",
    "    B.append(B_row)\n",
    "\n",
    "ar = np.array([R, G, B])\n",
    "\n",
    "from libtiff import TIFF\n",
    "tiff = TIFF.open('verwijderbaar.tif', mode='w')\n",
    "tiff.write_image(ar)\n",
    "tiff.close()\n",
    "print(ar.shape)\n",
    "\n",
    "test = TIFF.open('verwijderbaar.tif', mode='r')\n",
    "ar = test.read_image()\n",
    "test.close()\n",
    "ar.dtype\n",
    "\n",
    "np.max(ar)"
   ]
  },
  {
   "cell_type": "code",
   "execution_count": null,
   "metadata": {},
   "outputs": [],
   "source": []
  }
 ],
 "metadata": {
  "kernelspec": {
   "display_name": "Python 3",
   "language": "python",
   "name": "python3"
  },
  "language_info": {
   "codemirror_mode": {
    "name": "ipython",
    "version": 3
   },
   "file_extension": ".py",
   "mimetype": "text/x-python",
   "name": "python",
   "nbconvert_exporter": "python",
   "pygments_lexer": "ipython3",
   "version": "3.6.5"
  }
 },
 "nbformat": 4,
 "nbformat_minor": 2
}
